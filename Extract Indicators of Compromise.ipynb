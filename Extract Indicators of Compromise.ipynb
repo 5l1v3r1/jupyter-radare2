{
 "cells": [
  {
   "cell_type": "code",
   "execution_count": null,
   "metadata": {},
   "outputs": [],
   "source": [
    "#https://jakevdp.github.io/blog/2017/12/05/installing-python-packages-from-jupyter/\n",
    "\n",
    "#import sys\n",
    "#!conda install --yes --prefix {sys.prefix} r2pipe\n",
    "\n",
    "import sys\n",
    "!/Applications/Cutter.app/Contents/Frameworks/Python.framework/Versions/3.6/bin/python3\n",
    "#install --prefix=/Applications/Cutter.app/Contents/Frameworks/Python.framework/Versions/3.6/ r2pipe\n",
    "\n",
    "\n",
    "#/A/C/C/F/P/V/3/l/python3.7 pip3 install --prefix=(pwd)/Frameworks/Python.framework/Versions/3.6/ r2pipe\n"
   ]
  },
  {
   "cell_type": "code",
   "execution_count": null,
   "metadata": {},
   "outputs": [],
   "source": [
    "import cutter\n",
    "cutter.cmd('aaa')"
   ]
  },
  {
   "cell_type": "code",
   "execution_count": null,
   "metadata": {},
   "outputs": [],
   "source": [
    "import r2pipe\n",
    "import json\n",
    "import struct\n",
    "import re\n",
    "import base64\n",
    "from pprint import pprint, pformat\n",
    "\n",
    "IP_MATCHER = re.compile(\"(\\d{1,3}\\.\\d{1,3}\\.\\d{1,3}\\.\\d{1,3}(?:[:]\\d+)?)\")\n",
    "URL_MATCHER = re.compile('(?:(?:https?|ftp|file)://|www\\.|ftp\\.)[-A-Z0-9+&@#/%=~_|$?!:,.]*[A-Z0-9+&@#/%=~_|$]', re.IGNORECASE)\n",
    "EMAIL_MATCHER = re.compile('([A-Z0-9._%+-]+@[A-Z0-9.-]+\\.[A-Z]{2,4})', re.IGNORECASE)\n",
    "\n",
    "def regex_matcher(matcher):\n",
    "    return lambda st: matcher.findall(st)\n",
    "\n",
    "def path_matcher(st):\n",
    "    if st.startswith('/'):\n",
    "        return [st]\n",
    "    else:\n",
    "        return []\n",
    "    \n",
    "def contains_matcher(s):\n",
    "    return lambda st: [st] if s in st else []\n",
    "                \n",
    "matchers = [regex_matcher(IP_MATCHER), regex_matcher(URL_MATCHER), regex_matcher(EMAIL_MATCHER), path_matcher, contains_matcher('\\\\e['), contains_matcher('HTTP')]\n",
    "\n",
    "def print_s(s, r):\n",
    "    print('0x{:08x} 0x{:08x} {:10} {:4} {:10} {}'.format(s.get('paddr'), s.get('vaddr'), s.get('type'), s.get('length'), s.get('section'), r))\n",
    "\n",
    "strings = json.loads(cutter.cmd('izj'))\n",
    "for s in strings:\n",
    "    try:\n",
    "        st = base64.b64decode(s.get('string')).decode(s.get('type'))\n",
    "\n",
    "        for matcher in matchers:\n",
    "            matches = matcher(st)\n",
    "            for match in matches: \n",
    "                print_s (s, match)\n",
    "    except ValueError as e:\n",
    "        print(e)\n",
    "        continue\n",
    "    except LookupError as e:\n",
    "        print(e)\n",
    "        continue\n",
    "\n",
    "cutter.refresh()"
   ]
  }
 ],
 "metadata": {
  "kernelspec": {
   "display_name": "Python 3",
   "language": "python",
   "name": "python3"
  },
  "language_info": {
   "codemirror_mode": {
    "name": "ipython",
    "version": 3
   },
   "file_extension": ".py",
   "mimetype": "text/x-python",
   "name": "python",
   "nbconvert_exporter": "python",
   "pygments_lexer": "ipython3",
   "version": "3.6.4"
  }
 },
 "nbformat": 4,
 "nbformat_minor": 2
}
